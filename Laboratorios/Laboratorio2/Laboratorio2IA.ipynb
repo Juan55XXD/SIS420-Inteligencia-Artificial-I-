{
  "nbformat": 4,
  "nbformat_minor": 0,
  "metadata": {
    "colab": {
      "provenance": []
    },
    "kernelspec": {
      "name": "python3",
      "display_name": "Python 3"
    },
    "language_info": {
      "name": "python"
    }
  },
  "cells": [
    {
      "cell_type": "markdown",
      "source": [
        "# **Regresion Lineal con Multiples variables**\n",
        "El codigo implementa un modelo de regresion lineal multiple para predecir la comodidad de la estadia ('Stay Comfort') de los clientes de un hotel, utilizando la edad ('Age') y la calificación del servicio de wifi ('Hotel wifi service') como variables."
      ],
      "metadata": {
        "id": "LqR30xL3QFE_"
      }
    },
    {
      "cell_type": "code",
      "execution_count": 64,
      "metadata": {
        "id": "FWHHm15rkhdQ"
      },
      "outputs": [],
      "source": [
        "import os\n",
        "\n",
        "\n",
        "import numpy as np\n",
        "\n",
        "\n",
        "from matplotlib import pyplot\n",
        "from mpl_toolkits.mplot3d import Axes3D\n",
        "\n",
        "\n",
        "%matplotlib inline"
      ]
    },
    {
      "cell_type": "code",
      "source": [
        "from google.colab import drive\n",
        "drive.mount(\"/content/gdrive\")"
      ],
      "metadata": {
        "colab": {
          "base_uri": "https://localhost:8080/"
        },
        "id": "lDleZQt5k3O4",
        "outputId": "19e35c23-fd9f-445b-8e47-d6295d3e4be6"
      },
      "execution_count": 65,
      "outputs": [
        {
          "output_type": "stream",
          "name": "stdout",
          "text": [
            "Drive already mounted at /content/gdrive; to attempt to forcibly remount, call drive.mount(\"/content/gdrive\", force_remount=True).\n"
          ]
        }
      ]
    },
    {
      "cell_type": "code",
      "source": [
        "import pandas as pd\n",
        "\n",
        "df = pd.read_csv('/content/gdrive/MyDrive/Inteligencia Artificial I/Datasets Trabajos/Europe Hotel Booking Satisfaction Score.csv', delimiter=',')\n",
        "\n",
        "X = df[['Age','Hotel wifi service']]\n",
        "y = df['Stay comfort']\n",
        "m = y.size\n",
        "print(m)"
      ],
      "metadata": {
        "colab": {
          "base_uri": "https://localhost:8080/"
        },
        "id": "WLKTICjOllQ0",
        "outputId": "c4a90e6d-06e8-4091-cdd6-46dcc7b12696"
      },
      "execution_count": 66,
      "outputs": [
        {
          "output_type": "stream",
          "name": "stdout",
          "text": [
            "103904\n"
          ]
        }
      ]
    },
    {
      "cell_type": "code",
      "source": [
        "print(X)"
      ],
      "metadata": {
        "colab": {
          "base_uri": "https://localhost:8080/"
        },
        "id": "A8kbfKeqnegg",
        "outputId": "7ee23939-0d9b-4a91-d0e3-d8f68b225a20"
      },
      "execution_count": 67,
      "outputs": [
        {
          "output_type": "stream",
          "name": "stdout",
          "text": [
            "        Age  Hotel wifi service\n",
            "0        13                   3\n",
            "1        25                   3\n",
            "2        26                   2\n",
            "3        25                   2\n",
            "4        61                   3\n",
            "...     ...                 ...\n",
            "103899   23                   2\n",
            "103900   49                   4\n",
            "103901   30                   1\n",
            "103902   22                   1\n",
            "103903   27                   1\n",
            "\n",
            "[103904 rows x 2 columns]\n"
          ]
        }
      ]
    },
    {
      "cell_type": "code",
      "source": [
        "print(y)"
      ],
      "metadata": {
        "colab": {
          "base_uri": "https://localhost:8080/"
        },
        "id": "QN40yP51nkGY",
        "outputId": "2c30a193-c741-4517-82f7-1c7ca7c4f9cc"
      },
      "execution_count": 68,
      "outputs": [
        {
          "output_type": "stream",
          "name": "stdout",
          "text": [
            "0         5\n",
            "1         1\n",
            "2         5\n",
            "3         2\n",
            "4         5\n",
            "         ..\n",
            "103899    2\n",
            "103900    5\n",
            "103901    5\n",
            "103902    1\n",
            "103903    1\n",
            "Name: Stay comfort, Length: 103904, dtype: int64\n"
          ]
        }
      ]
    },
    {
      "cell_type": "markdown",
      "source": [
        "**Preprocesamiento de datos**\n",
        "\n",
        "Luego de cargar los datos a las variables debemos verificar si se encuentra algun valor nulo (Limpieza de Datos), en nuestro caso no existe ningun valor vacio o NaN"
      ],
      "metadata": {
        "id": "BYiCfpuLoCky"
      }
    },
    {
      "cell_type": "code",
      "source": [
        "#Verificacion de valores nulos\n",
        "print(\"Valores nulos en las variables independientes (X):\")\n",
        "print(X.isnull().sum())\n",
        "\n",
        "print(\"\\nValores nulos en la variable dependiente (y):\")\n",
        "print(y.isnull().sum())\n"
      ],
      "metadata": {
        "colab": {
          "base_uri": "https://localhost:8080/"
        },
        "id": "MUOE2gH6oB4P",
        "outputId": "a52a7306-3fd9-4c6d-c9db-f5fa133bb4ab"
      },
      "execution_count": 69,
      "outputs": [
        {
          "output_type": "stream",
          "name": "stdout",
          "text": [
            "Valores nulos en las variables independientes (X):\n",
            "Age                   0\n",
            "Hotel wifi service    0\n",
            "dtype: int64\n",
            "\n",
            "Valores nulos en la variable dependiente (y):\n",
            "0\n"
          ]
        }
      ]
    },
    {
      "cell_type": "markdown",
      "source": [
        "# **Division de Valores**\n",
        "\n",
        "Se realiza mediante la funcion train_test_split la division de datos en 2 partes:\n",
        "\n",
        "**Conjunto de entrenamiento (X_train, y_train):** Usada para que el modelo aprenda la relacion entre sus variables.\n",
        "El modelo ajusta sus parámetros (theta) basándose únicamente en estos datos.\n",
        "\n",
        "**Conjunto de prueba (X_test, y_test):** Este conjunto se mantiene completamente separado y el modelo no lo ve durante el entrenamiento. Su propósito es evaluar el rendimiento del modelo en datos nuevos y no vistos."
      ],
      "metadata": {
        "id": "4PgADi8Bsrgb"
      }
    },
    {
      "cell_type": "code",
      "source": [
        "from sklearn.model_selection import train_test_split\n",
        "X_train, X_test, y_train, y_test = train_test_split(X, y, test_size=100, random_state=42)"
      ],
      "metadata": {
        "id": "hdCPZsnXsqWc"
      },
      "execution_count": 70,
      "outputs": []
    },
    {
      "cell_type": "markdown",
      "source": [
        "# **Normalizacion de Caracteristicas**"
      ],
      "metadata": {
        "id": "dP14tF-npCkT"
      }
    },
    {
      "cell_type": "code",
      "source": [
        "def  featureNormalize(X):\n",
        "\n",
        "    X_norm = X.copy()\n",
        "    mu = np.zeros(X.shape[1])\n",
        "    sigma = np.zeros(X.shape[1])\n",
        "\n",
        "    mu = np.mean(X, axis = 0)\n",
        "    sigma = np.std(X, axis = 0)\n",
        "    X_norm = (X - mu) / sigma\n",
        "\n",
        "    return X_norm, mu, sigma"
      ],
      "metadata": {
        "id": "FrzF-AsLo3Pm"
      },
      "execution_count": 71,
      "outputs": []
    },
    {
      "cell_type": "markdown",
      "source": [
        "Para evitar la fuga de datos (data leakage), la normalización se aplica primero al conjunto de entrenamiento y las medias(mu) y desviacion estandar(sigma) calculadas se guardan para normalizar el conjunto de prueba."
      ],
      "metadata": {
        "id": "snQZQ16gu0Rn"
      }
    },
    {
      "cell_type": "code",
      "source": [
        "X_train_norm, mu, sigma = featureNormalize(X_train)"
      ],
      "metadata": {
        "id": "pTlWd8wau5ne"
      },
      "execution_count": 72,
      "outputs": []
    },
    {
      "cell_type": "markdown",
      "source": [
        "Normalizamos el conjunto de Prueba"
      ],
      "metadata": {
        "id": "2y1LbNkcvEQI"
      }
    },
    {
      "cell_type": "code",
      "source": [
        "X_test_norm = (X_test - mu) / sigma"
      ],
      "metadata": {
        "id": "-UoeyOlevD-m"
      },
      "execution_count": 73,
      "outputs": []
    },
    {
      "cell_type": "code",
      "source": [
        "print(X_train)\n",
        "print('Media calculada:', mu)\n",
        "print('Desviación estandar calculada:', sigma)\n",
        "print(X_train_norm)"
      ],
      "metadata": {
        "id": "JcVMrsXBpU0j",
        "colab": {
          "base_uri": "https://localhost:8080/"
        },
        "outputId": "50c9a32d-59dd-40f9-cfc5-b736ca7fe512"
      },
      "execution_count": 74,
      "outputs": [
        {
          "output_type": "stream",
          "name": "stdout",
          "text": [
            "        Age  Hotel wifi service\n",
            "45362    56                   2\n",
            "38956    32                   3\n",
            "32358    67                   1\n",
            "92489    27                   4\n",
            "67380    52                   1\n",
            "...     ...                 ...\n",
            "54886    39                   3\n",
            "76820    17                   3\n",
            "103694   46                   1\n",
            "860      37                   5\n",
            "15795    14                   4\n",
            "\n",
            "[103804 rows x 2 columns]\n",
            "Media calculada: Age                   39.380062\n",
            "Hotel wifi service     2.729721\n",
            "dtype: float64\n",
            "Desviación estandar calculada: Age                   15.115675\n",
            "Hotel wifi service     1.327826\n",
            "dtype: float64\n",
            "             Age  Hotel wifi service\n",
            "45362   1.099517           -0.549561\n",
            "38956  -0.488239            0.203550\n",
            "32358   1.827238           -1.302672\n",
            "92489  -0.819021            0.956661\n",
            "67380   0.834891           -1.302672\n",
            "...          ...                 ...\n",
            "54886  -0.025144            0.203550\n",
            "76820  -1.480586            0.203550\n",
            "103694  0.437952           -1.302672\n",
            "860    -0.157457            1.709771\n",
            "15795  -1.679056            0.956661\n",
            "\n",
            "[103804 rows x 2 columns]\n"
          ]
        }
      ]
    },
    {
      "cell_type": "markdown",
      "source": [
        "**Añadimos X0**"
      ],
      "metadata": {
        "id": "1ALtIJ97pv9G"
      }
    },
    {
      "cell_type": "code",
      "source": [
        "X_train_norm = np.concatenate([np.ones((X_train_norm.shape[0], 1)), X_train_norm], axis=1)\n",
        "X_test_norm = np.concatenate([np.ones((X_test_norm.shape[0], 1)), X_test_norm], axis=1)"
      ],
      "metadata": {
        "id": "GGIjmzUGpl3B"
      },
      "execution_count": 75,
      "outputs": []
    },
    {
      "cell_type": "code",
      "source": [
        "print(X_train_norm)"
      ],
      "metadata": {
        "colab": {
          "base_uri": "https://localhost:8080/"
        },
        "id": "rGKsRTJBqI9h",
        "outputId": "c1c3c4c0-12bf-4b3e-d648-290e0d468f87"
      },
      "execution_count": 76,
      "outputs": [
        {
          "output_type": "stream",
          "name": "stdout",
          "text": [
            "[[ 1.          1.09951671 -0.54956107]\n",
            " [ 1.         -0.48823902  0.20354974]\n",
            " [ 1.          1.82723808 -1.30267188]\n",
            " ...\n",
            " [ 1.          0.43795182 -1.30267188]\n",
            " [ 1.         -0.15745657  1.70977135]\n",
            " [ 1.         -1.67905581  0.95666054]]\n"
          ]
        }
      ]
    },
    {
      "cell_type": "markdown",
      "source": [
        "# **Descenso por el gradiente**"
      ],
      "metadata": {
        "id": "fwubjrTVqP4u"
      }
    },
    {
      "cell_type": "markdown",
      "source": [
        "Esta funcion permitira medir el error del modelo"
      ],
      "metadata": {
        "id": "3yYYDxKHZsNW"
      }
    },
    {
      "cell_type": "code",
      "source": [
        "def computeCostMulti(X, y, theta):\n",
        "    m = y.shape[0]\n",
        "\n",
        "    J = 0\n",
        "\n",
        "\n",
        "    J = (1/(2 * m)) * np.sum(np.square(np.dot(X, theta) - y))\n",
        "\n",
        "    return J\n"
      ],
      "metadata": {
        "id": "gM2ZDXAKqNmV"
      },
      "execution_count": 77,
      "outputs": []
    },
    {
      "cell_type": "markdown",
      "source": [
        "Es el corazon del algoritmo, se encuentran los mejores valores de theta"
      ],
      "metadata": {
        "id": "wESxknyFZqkJ"
      }
    },
    {
      "cell_type": "code",
      "source": [
        "def gradientDescentMulti(X, y, theta, alpha, num_iters):\n",
        "\n",
        "\n",
        "    m = y.shape[0]\n",
        "\n",
        "\n",
        "\n",
        "    theta = theta.copy()\n",
        "\n",
        "    J_history = []\n",
        "\n",
        "    for i in range(num_iters):\n",
        "        theta = theta - (alpha / m) * (np.dot(X, theta) - y).dot(X)\n",
        "        J_history.append(computeCostMulti(X, y, theta))\n",
        "\n",
        "    return theta, J_history"
      ],
      "metadata": {
        "id": "7ohjbXgXwAui"
      },
      "execution_count": 78,
      "outputs": []
    },
    {
      "cell_type": "markdown",
      "source": [
        "Seleccionamos el Coeficiente de aprendizaje(alpha) y el numero de iteraciones(num_iters).\n",
        "\n",
        "Se carga theta con valores de 0 y el tamaño del vector debe coincidir con el numero de caracteristicas en X_train_norm.\n",
        "\n",
        "Se grafica el costo de J y se muestran los resultados del descenso por el gradiente.\n",
        "\n",
        "Con  nuevos datos se crea un array de la nueva instancia y se normaliza usando sigma y mu del conjunto de entrenamiento.\n",
        "\n",
        "Se realiza la prrediccion y se calcula el costo en el conjunto de PRUEBA para evaluar el modelo."
      ],
      "metadata": {
        "id": "n6WJDtDnwEi8"
      }
    },
    {
      "cell_type": "code",
      "source": [
        "alpha = 0.001\n",
        "num_iters = 10000\n",
        "\n",
        "\n",
        "theta = np.zeros(X_train_norm.shape[1])\n",
        "theta, J_history = gradientDescentMulti(X_train_norm, y_train, theta, alpha, num_iters)\n",
        "\n",
        "\n",
        "pyplot.plot(np.arange(len(J_history)), J_history, lw=2)\n",
        "pyplot.xlabel('Numero de iteraciones')\n",
        "pyplot.ylabel('Costo J')\n",
        "\n",
        "\n",
        "print('theta calculado por el descenso por el gradiente: {:s}'.format(str(theta)))\n",
        "\n",
        "# Estimar el Stay comfort de una persona de 20 age, con una calificacion de Hotel wifi service de 4\n",
        "age_example = 20\n",
        "wifi_service_example = 4\n",
        "\n",
        "\n",
        "X_array = np.array([1, age_example, wifi_service_example], dtype=np.float64)\n",
        "X_array[1:3] = (X_array[1:3] - mu) / sigma\n",
        "\n",
        "\n",
        "predicted_comfort = np.dot(X_array, theta)\n",
        "\n",
        "print(f'\\nEl Stay comfort predecido para una persona de {age_example} años y {wifi_service_example} de calificacion de wifi es: {predicted_comfort:.2f}')\n",
        "\n",
        "\n",
        "cost_on_test = computeCostMulti(X_test_norm, y_test, theta)\n",
        "print(f\"Costo en el conjunto de prueba: {cost_on_test:.2f}\")\n"
      ],
      "metadata": {
        "colab": {
          "base_uri": "https://localhost:8080/",
          "height": 520
        },
        "id": "NIw6H9MgwH10",
        "outputId": "238ac060-cc55-43e9-abe8-c9361229c9fa"
      },
      "execution_count": 79,
      "outputs": [
        {
          "output_type": "stream",
          "name": "stdout",
          "text": [
            "theta calculado por el descenso por el gradiente: [3.4392304  0.20873839 0.15791153]\n",
            "\n",
            "El Stay comfort predecido para una persona de 20 años y 4 de calificacion de wifi es: 3.32\n",
            "Costo en el conjunto de prueba: 0.76\n"
          ]
        },
        {
          "output_type": "display_data",
          "data": {
            "text/plain": [
              "<Figure size 640x480 with 1 Axes>"
            ],
            "image/png": "[encoded data removed]"
          },
          "metadata": {}
        }
      ]
    },
    {
      "cell_type": "markdown",
      "source": [
        "# **Ecuacion de la NORMAL**"
      ],
      "metadata": {
        "id": "TQes26oG3HP4"
      }
    },
    {
      "cell_type": "markdown",
      "source": [
        "Cargamos los datos y tambien los valores 1."
      ],
      "metadata": {
        "id": "snql3khJ4ffW"
      }
    },
    {
      "cell_type": "code",
      "source": [
        "\n",
        "df = pd.read_csv('/content/gdrive/MyDrive/Inteligencia Artificial I/Datasets Trabajos/Europe Hotel Booking Satisfaction Score.csv', delimiter=',')\n",
        "\n",
        "X = df[['Age','Hotel wifi service']]\n",
        "y = df['Stay comfort']\n",
        "m = y.size\n",
        "print(m)\n",
        "X = np.concatenate([np.ones((m, 1)), X], axis=1)\n",
        "print(X)"
      ],
      "metadata": {
        "colab": {
          "base_uri": "https://localhost:8080/"
        },
        "id": "uhEtW8Ax3Mcv",
        "outputId": "9863e616-edcc-4e91-fa05-c71cb2f7b375"
      },
      "execution_count": 81,
      "outputs": [
        {
          "output_type": "stream",
          "name": "stdout",
          "text": [
            "103904\n",
            "[[ 1. 13.  3.]\n",
            " [ 1. 25.  3.]\n",
            " [ 1. 26.  2.]\n",
            " ...\n",
            " [ 1. 30.  1.]\n",
            " [ 1. 22.  1.]\n",
            " [ 1. 27.  1.]]\n"
          ]
        }
      ]
    },
    {
      "cell_type": "code",
      "source": [
        "def normalEqn(X, y):\n",
        "\n",
        "    theta = np.zeros(X.shape[1])\n",
        "\n",
        "    theta = np.dot(np.dot(np.linalg.inv(np.dot(X.T,X)),X.T),y)\n",
        "\n",
        "    return theta"
      ],
      "metadata": {
        "id": "cuFsuwke5AIU"
      },
      "execution_count": 82,
      "outputs": []
    },
    {
      "cell_type": "markdown",
      "source": [
        "Calculamos los parametros con la ecuacion de la normal y los mostramos.\n",
        "Luego realizamos una prediccion."
      ],
      "metadata": {
        "id": "s7U3AykKipQk"
      }
    },
    {
      "cell_type": "code",
      "source": [
        "theta = normalEqn(X, y);\n",
        "\n",
        "print('Theta calculado a partir de la ecuación de la normal: {:s}'.format(str(theta)));\n",
        "\n",
        "X_array = [1, 40, 3.76]\n",
        "point = np.dot(X_array, theta)\n",
        "\n",
        "print('Puntuacion de estadia predecida para una persona de 25 años y una puntacion de wifi de 5 (usando la ecuación de la normal): {:.0f}'.format(point))"
      ],
      "metadata": {
        "colab": {
          "base_uri": "https://localhost:8080/"
        },
        "id": "6_Jm9Cvrime0",
        "outputId": "f88a754e-e536-440e-d5b2-f19de155faa8"
      },
      "execution_count": 83,
      "outputs": [
        {
          "output_type": "stream",
          "name": "stdout",
          "text": [
            "Theta calculado a partir de la ecuación de la normal: [2.57097706 0.01380063 0.11904466]\n",
            "Puntuacion de estadia predecida para una persona de 25 años y una puntacion de wifi de 5 (usando la ecuación de la normal): 4\n"
          ]
        }
      ]
    }
  ]
}